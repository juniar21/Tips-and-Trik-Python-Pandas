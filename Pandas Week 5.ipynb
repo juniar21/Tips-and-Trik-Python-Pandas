{
 "cells": [
  {
   "cell_type": "code",
   "execution_count": null,
   "metadata": {},
   "outputs": [],
   "source": [
    "#17. Resampling pada data deret waktu (time series data)"
   ]
  },
  {
   "cell_type": "code",
   "execution_count": 1,
   "metadata": {},
   "outputs": [],
   "source": [
    "import pandas as pd\n",
    "import numpy as np\n"
   ]
  },
  {
   "cell_type": "code",
   "execution_count": 2,
   "metadata": {},
   "outputs": [
    {
     "name": "stderr",
     "output_type": "stream",
     "text": [
      "C:\\Users\\PAVILION15\\anaconda3\\lib\\site-packages\\pandas\\util\\__init__.py:12: FutureWarning: pandas.util.testing is deprecated. Use the functions in the public API at pandas.testing instead.\n",
      "  import pandas.util.testing\n"
     ]
    },
    {
     "data": {
      "text/html": [
       "<div>\n",
       "<style scoped>\n",
       "    .dataframe tbody tr th:only-of-type {\n",
       "        vertical-align: middle;\n",
       "    }\n",
       "\n",
       "    .dataframe tbody tr th {\n",
       "        vertical-align: top;\n",
       "    }\n",
       "\n",
       "    .dataframe thead th {\n",
       "        text-align: right;\n",
       "    }\n",
       "</style>\n",
       "<table border=\"1\" class=\"dataframe\">\n",
       "  <thead>\n",
       "    <tr style=\"text-align: right;\">\n",
       "      <th></th>\n",
       "      <th>col1</th>\n",
       "      <th>col2</th>\n",
       "    </tr>\n",
       "  </thead>\n",
       "  <tbody>\n",
       "    <tr>\n",
       "      <th>2000-01-01 00:00:00</th>\n",
       "      <td>6</td>\n",
       "      <td>5</td>\n",
       "    </tr>\n",
       "    <tr>\n",
       "      <th>2000-01-01 01:00:00</th>\n",
       "      <td>16</td>\n",
       "      <td>3</td>\n",
       "    </tr>\n",
       "    <tr>\n",
       "      <th>2000-01-01 02:00:00</th>\n",
       "      <td>3</td>\n",
       "      <td>11</td>\n",
       "    </tr>\n",
       "    <tr>\n",
       "      <th>2000-01-01 03:00:00</th>\n",
       "      <td>17</td>\n",
       "      <td>17</td>\n",
       "    </tr>\n",
       "    <tr>\n",
       "      <th>2000-01-01 04:00:00</th>\n",
       "      <td>8</td>\n",
       "      <td>13</td>\n",
       "    </tr>\n",
       "    <tr>\n",
       "      <th>...</th>\n",
       "      <td>...</td>\n",
       "      <td>...</td>\n",
       "    </tr>\n",
       "    <tr>\n",
       "      <th>2000-12-30 19:00:00</th>\n",
       "      <td>15</td>\n",
       "      <td>3</td>\n",
       "    </tr>\n",
       "    <tr>\n",
       "      <th>2000-12-30 20:00:00</th>\n",
       "      <td>11</td>\n",
       "      <td>13</td>\n",
       "    </tr>\n",
       "    <tr>\n",
       "      <th>2000-12-30 21:00:00</th>\n",
       "      <td>8</td>\n",
       "      <td>4</td>\n",
       "    </tr>\n",
       "    <tr>\n",
       "      <th>2000-12-30 22:00:00</th>\n",
       "      <td>19</td>\n",
       "      <td>6</td>\n",
       "    </tr>\n",
       "    <tr>\n",
       "      <th>2000-12-30 23:00:00</th>\n",
       "      <td>6</td>\n",
       "      <td>11</td>\n",
       "    </tr>\n",
       "  </tbody>\n",
       "</table>\n",
       "<p>8760 rows × 2 columns</p>\n",
       "</div>"
      ],
      "text/plain": [
       "                     col1  col2\n",
       "2000-01-01 00:00:00     6     5\n",
       "2000-01-01 01:00:00    16     3\n",
       "2000-01-01 02:00:00     3    11\n",
       "2000-01-01 03:00:00    17    17\n",
       "2000-01-01 04:00:00     8    13\n",
       "...                   ...   ...\n",
       "2000-12-30 19:00:00    15     3\n",
       "2000-12-30 20:00:00    11    13\n",
       "2000-12-30 21:00:00     8     4\n",
       "2000-12-30 22:00:00    19     6\n",
       "2000-12-30 23:00:00     6    11\n",
       "\n",
       "[8760 rows x 2 columns]"
      ]
     },
     "execution_count": 2,
     "metadata": {},
     "output_type": "execute_result"
    }
   ],
   "source": [
    "# Data Frame\n",
    "\n",
    "n_rows = 365 * 24\n",
    "n_cols = 2\n",
    "cols = ['col1', 'col2']\n",
    "\n",
    "df = pd.DataFrame(np.random.randint(1, 20, size=(n_rows, n_cols)), \n",
    "                  columns=cols)\n",
    "\n",
    "df.index = pd.util.testing.makeDateIndex(n_rows, freq='H')\n",
    "df"
   ]
  },
  {
   "cell_type": "code",
   "execution_count": 3,
   "metadata": {},
   "outputs": [
    {
     "data": {
      "text/html": [
       "<div>\n",
       "<style scoped>\n",
       "    .dataframe tbody tr th:only-of-type {\n",
       "        vertical-align: middle;\n",
       "    }\n",
       "\n",
       "    .dataframe tbody tr th {\n",
       "        vertical-align: top;\n",
       "    }\n",
       "\n",
       "    .dataframe thead th {\n",
       "        text-align: right;\n",
       "    }\n",
       "</style>\n",
       "<table border=\"1\" class=\"dataframe\">\n",
       "  <thead>\n",
       "    <tr style=\"text-align: right;\">\n",
       "      <th></th>\n",
       "      <th>col1</th>\n",
       "    </tr>\n",
       "  </thead>\n",
       "  <tbody>\n",
       "    <tr>\n",
       "      <th>2000-01-31</th>\n",
       "      <td>7706</td>\n",
       "    </tr>\n",
       "    <tr>\n",
       "      <th>2000-02-29</th>\n",
       "      <td>6769</td>\n",
       "    </tr>\n",
       "    <tr>\n",
       "      <th>2000-03-31</th>\n",
       "      <td>7450</td>\n",
       "    </tr>\n",
       "    <tr>\n",
       "      <th>2000-04-30</th>\n",
       "      <td>7086</td>\n",
       "    </tr>\n",
       "    <tr>\n",
       "      <th>2000-05-31</th>\n",
       "      <td>7511</td>\n",
       "    </tr>\n",
       "    <tr>\n",
       "      <th>2000-06-30</th>\n",
       "      <td>7127</td>\n",
       "    </tr>\n",
       "    <tr>\n",
       "      <th>2000-07-31</th>\n",
       "      <td>7345</td>\n",
       "    </tr>\n",
       "    <tr>\n",
       "      <th>2000-08-31</th>\n",
       "      <td>7232</td>\n",
       "    </tr>\n",
       "    <tr>\n",
       "      <th>2000-09-30</th>\n",
       "      <td>7209</td>\n",
       "    </tr>\n",
       "    <tr>\n",
       "      <th>2000-10-31</th>\n",
       "      <td>7475</td>\n",
       "    </tr>\n",
       "    <tr>\n",
       "      <th>2000-11-30</th>\n",
       "      <td>7418</td>\n",
       "    </tr>\n",
       "    <tr>\n",
       "      <th>2000-12-31</th>\n",
       "      <td>7455</td>\n",
       "    </tr>\n",
       "  </tbody>\n",
       "</table>\n",
       "</div>"
      ],
      "text/plain": [
       "            col1\n",
       "2000-01-31  7706\n",
       "2000-02-29  6769\n",
       "2000-03-31  7450\n",
       "2000-04-30  7086\n",
       "2000-05-31  7511\n",
       "2000-06-30  7127\n",
       "2000-07-31  7345\n",
       "2000-08-31  7232\n",
       "2000-09-30  7209\n",
       "2000-10-31  7475\n",
       "2000-11-30  7418\n",
       "2000-12-31  7455"
      ]
     },
     "execution_count": 3,
     "metadata": {},
     "output_type": "execute_result"
    }
   ],
   "source": [
    "# Resampling data dengan interval monthly\n",
    "\n",
    "df.resample('M')['col1'].sum().to_frame()"
   ]
  },
  {
   "cell_type": "code",
   "execution_count": 4,
   "metadata": {},
   "outputs": [
    {
     "data": {
      "text/html": [
       "<div>\n",
       "<style scoped>\n",
       "    .dataframe tbody tr th:only-of-type {\n",
       "        vertical-align: middle;\n",
       "    }\n",
       "\n",
       "    .dataframe tbody tr th {\n",
       "        vertical-align: top;\n",
       "    }\n",
       "\n",
       "    .dataframe thead th {\n",
       "        text-align: right;\n",
       "    }\n",
       "</style>\n",
       "<table border=\"1\" class=\"dataframe\">\n",
       "  <thead>\n",
       "    <tr style=\"text-align: right;\">\n",
       "      <th></th>\n",
       "      <th>col1</th>\n",
       "    </tr>\n",
       "  </thead>\n",
       "  <tbody>\n",
       "    <tr>\n",
       "      <th>2000-01-01</th>\n",
       "      <td>301</td>\n",
       "    </tr>\n",
       "    <tr>\n",
       "      <th>2000-01-02</th>\n",
       "      <td>241</td>\n",
       "    </tr>\n",
       "    <tr>\n",
       "      <th>2000-01-03</th>\n",
       "      <td>215</td>\n",
       "    </tr>\n",
       "    <tr>\n",
       "      <th>2000-01-04</th>\n",
       "      <td>242</td>\n",
       "    </tr>\n",
       "    <tr>\n",
       "      <th>2000-01-05</th>\n",
       "      <td>180</td>\n",
       "    </tr>\n",
       "    <tr>\n",
       "      <th>...</th>\n",
       "      <td>...</td>\n",
       "    </tr>\n",
       "    <tr>\n",
       "      <th>2000-12-26</th>\n",
       "      <td>267</td>\n",
       "    </tr>\n",
       "    <tr>\n",
       "      <th>2000-12-27</th>\n",
       "      <td>278</td>\n",
       "    </tr>\n",
       "    <tr>\n",
       "      <th>2000-12-28</th>\n",
       "      <td>297</td>\n",
       "    </tr>\n",
       "    <tr>\n",
       "      <th>2000-12-29</th>\n",
       "      <td>208</td>\n",
       "    </tr>\n",
       "    <tr>\n",
       "      <th>2000-12-30</th>\n",
       "      <td>252</td>\n",
       "    </tr>\n",
       "  </tbody>\n",
       "</table>\n",
       "<p>365 rows × 1 columns</p>\n",
       "</div>"
      ],
      "text/plain": [
       "            col1\n",
       "2000-01-01   301\n",
       "2000-01-02   241\n",
       "2000-01-03   215\n",
       "2000-01-04   242\n",
       "2000-01-05   180\n",
       "...          ...\n",
       "2000-12-26   267\n",
       "2000-12-27   278\n",
       "2000-12-28   297\n",
       "2000-12-29   208\n",
       "2000-12-30   252\n",
       "\n",
       "[365 rows x 1 columns]"
      ]
     },
     "execution_count": 4,
     "metadata": {},
     "output_type": "execute_result"
    }
   ],
   "source": [
    "# Resampling data dengan interval daily\n",
    "\n",
    "df.resample('D')['col1'].sum().to_frame()"
   ]
  },
  {
   "cell_type": "code",
   "execution_count": null,
   "metadata": {},
   "outputs": [],
   "source": []
  },
  {
   "cell_type": "code",
   "execution_count": null,
   "metadata": {},
   "outputs": [],
   "source": [
    "#18. Membentuk dummy Data Frame"
   ]
  },
  {
   "cell_type": "code",
   "execution_count": 5,
   "metadata": {},
   "outputs": [
    {
     "data": {
      "text/html": [
       "<div>\n",
       "<style scoped>\n",
       "    .dataframe tbody tr th:only-of-type {\n",
       "        vertical-align: middle;\n",
       "    }\n",
       "\n",
       "    .dataframe tbody tr th {\n",
       "        vertical-align: top;\n",
       "    }\n",
       "\n",
       "    .dataframe thead th {\n",
       "        text-align: right;\n",
       "    }\n",
       "</style>\n",
       "<table border=\"1\" class=\"dataframe\">\n",
       "  <thead>\n",
       "    <tr style=\"text-align: right;\">\n",
       "      <th></th>\n",
       "      <th>col1</th>\n",
       "      <th>col2</th>\n",
       "    </tr>\n",
       "  </thead>\n",
       "  <tbody>\n",
       "    <tr>\n",
       "      <th>0</th>\n",
       "      <td>1</td>\n",
       "      <td>5</td>\n",
       "    </tr>\n",
       "    <tr>\n",
       "      <th>1</th>\n",
       "      <td>2</td>\n",
       "      <td>6</td>\n",
       "    </tr>\n",
       "    <tr>\n",
       "      <th>2</th>\n",
       "      <td>3</td>\n",
       "      <td>7</td>\n",
       "    </tr>\n",
       "    <tr>\n",
       "      <th>3</th>\n",
       "      <td>4</td>\n",
       "      <td>8</td>\n",
       "    </tr>\n",
       "  </tbody>\n",
       "</table>\n",
       "</div>"
      ],
      "text/plain": [
       "   col1  col2\n",
       "0     1     5\n",
       "1     2     6\n",
       "2     3     7\n",
       "3     4     8"
      ]
     },
     "execution_count": 5,
     "metadata": {},
     "output_type": "execute_result"
    }
   ],
   "source": [
    "# Membentuk Data Frame dari Dictionary\n",
    "pd.DataFrame({'col1':[1, 2, 3, 4], \n",
    "              'col2':[5, 6, 7, 8]})"
   ]
  },
  {
   "cell_type": "code",
   "execution_count": 6,
   "metadata": {},
   "outputs": [
    {
     "data": {
      "text/plain": [
       "array([[15, 14,  7],\n",
       "       [ 5, 15, 15],\n",
       "       [18, 11,  7],\n",
       "       [ 3, 19,  3],\n",
       "       [ 7,  3, 19]])"
      ]
     },
     "execution_count": 6,
     "metadata": {},
     "output_type": "execute_result"
    }
   ],
   "source": [
    "# Membentuk Data Frame dari Numpy Array\n",
    "\n",
    "n_rows = 5\n",
    "n_cols = 3\n",
    "\n",
    "arr = np.random.randint(1, 20, size=(n_rows, n_cols))\n",
    "arr"
   ]
  },
  {
   "cell_type": "code",
   "execution_count": 7,
   "metadata": {},
   "outputs": [
    {
     "data": {
      "text/html": [
       "<div>\n",
       "<style scoped>\n",
       "    .dataframe tbody tr th:only-of-type {\n",
       "        vertical-align: middle;\n",
       "    }\n",
       "\n",
       "    .dataframe tbody tr th {\n",
       "        vertical-align: top;\n",
       "    }\n",
       "\n",
       "    .dataframe thead th {\n",
       "        text-align: right;\n",
       "    }\n",
       "</style>\n",
       "<table border=\"1\" class=\"dataframe\">\n",
       "  <thead>\n",
       "    <tr style=\"text-align: right;\">\n",
       "      <th></th>\n",
       "      <th>A</th>\n",
       "      <th>B</th>\n",
       "      <th>C</th>\n",
       "    </tr>\n",
       "  </thead>\n",
       "  <tbody>\n",
       "    <tr>\n",
       "      <th>0</th>\n",
       "      <td>15</td>\n",
       "      <td>14</td>\n",
       "      <td>7</td>\n",
       "    </tr>\n",
       "    <tr>\n",
       "      <th>1</th>\n",
       "      <td>5</td>\n",
       "      <td>15</td>\n",
       "      <td>15</td>\n",
       "    </tr>\n",
       "    <tr>\n",
       "      <th>2</th>\n",
       "      <td>18</td>\n",
       "      <td>11</td>\n",
       "      <td>7</td>\n",
       "    </tr>\n",
       "    <tr>\n",
       "      <th>3</th>\n",
       "      <td>3</td>\n",
       "      <td>19</td>\n",
       "      <td>3</td>\n",
       "    </tr>\n",
       "    <tr>\n",
       "      <th>4</th>\n",
       "      <td>7</td>\n",
       "      <td>3</td>\n",
       "      <td>19</td>\n",
       "    </tr>\n",
       "  </tbody>\n",
       "</table>\n",
       "</div>"
      ],
      "text/plain": [
       "    A   B   C\n",
       "0  15  14   7\n",
       "1   5  15  15\n",
       "2  18  11   7\n",
       "3   3  19   3\n",
       "4   7   3  19"
      ]
     },
     "execution_count": 7,
     "metadata": {},
     "output_type": "execute_result"
    }
   ],
   "source": [
    "pd.DataFrame(arr, columns=tuple('ABC'))"
   ]
  },
  {
   "cell_type": "code",
   "execution_count": 8,
   "metadata": {},
   "outputs": [
    {
     "data": {
      "text/html": [
       "<div>\n",
       "<style scoped>\n",
       "    .dataframe tbody tr th:only-of-type {\n",
       "        vertical-align: middle;\n",
       "    }\n",
       "\n",
       "    .dataframe tbody tr th {\n",
       "        vertical-align: top;\n",
       "    }\n",
       "\n",
       "    .dataframe thead th {\n",
       "        text-align: right;\n",
       "    }\n",
       "</style>\n",
       "<table border=\"1\" class=\"dataframe\">\n",
       "  <thead>\n",
       "    <tr style=\"text-align: right;\">\n",
       "      <th></th>\n",
       "      <th>A</th>\n",
       "      <th>B</th>\n",
       "      <th>C</th>\n",
       "      <th>D</th>\n",
       "    </tr>\n",
       "  </thead>\n",
       "  <tbody>\n",
       "    <tr>\n",
       "      <th>jJibs4iQ7d</th>\n",
       "      <td>-1.004601</td>\n",
       "      <td>0.815119</td>\n",
       "      <td>-0.528371</td>\n",
       "      <td>-1.131521</td>\n",
       "    </tr>\n",
       "    <tr>\n",
       "      <th>lulh5eZcdW</th>\n",
       "      <td>-0.979053</td>\n",
       "      <td>-0.813058</td>\n",
       "      <td>-0.340395</td>\n",
       "      <td>0.192874</td>\n",
       "    </tr>\n",
       "    <tr>\n",
       "      <th>i6jt9LlT0S</th>\n",
       "      <td>0.044482</td>\n",
       "      <td>0.374939</td>\n",
       "      <td>NaN</td>\n",
       "      <td>0.961909</td>\n",
       "    </tr>\n",
       "    <tr>\n",
       "      <th>I0QzYvrNRI</th>\n",
       "      <td>-2.126819</td>\n",
       "      <td>0.553515</td>\n",
       "      <td>NaN</td>\n",
       "      <td>-0.739158</td>\n",
       "    </tr>\n",
       "    <tr>\n",
       "      <th>FsqzSXiJKI</th>\n",
       "      <td>0.956682</td>\n",
       "      <td>0.218226</td>\n",
       "      <td>-1.742875</td>\n",
       "      <td>-0.098693</td>\n",
       "    </tr>\n",
       "  </tbody>\n",
       "</table>\n",
       "</div>"
      ],
      "text/plain": [
       "                   A         B         C         D\n",
       "jJibs4iQ7d -1.004601  0.815119 -0.528371 -1.131521\n",
       "lulh5eZcdW -0.979053 -0.813058 -0.340395  0.192874\n",
       "i6jt9LlT0S  0.044482  0.374939       NaN  0.961909\n",
       "I0QzYvrNRI -2.126819  0.553515       NaN -0.739158\n",
       "FsqzSXiJKI  0.956682  0.218226 -1.742875 -0.098693"
      ]
     },
     "execution_count": 8,
     "metadata": {},
     "output_type": "execute_result"
    }
   ],
   "source": [
    "# Membentuk Data Frame dengan memanfaatkan pandas.util.testing\n",
    "\n",
    "\n",
    "pd.util.testing.makeDataFrame().head()\n",
    "\n",
    "pd.util.testing.makeMixedDataFrame().head()\n",
    "\n",
    "pd.util.testing.makeTimeDataFrame().head()\n",
    "\n",
    "pd.util.testing.makeMissingDataframe().head()"
   ]
  },
  {
   "cell_type": "code",
   "execution_count": null,
   "metadata": {},
   "outputs": [],
   "source": []
  },
  {
   "cell_type": "code",
   "execution_count": 9,
   "metadata": {},
   "outputs": [
    {
     "data": {
      "text/html": [
       "<div>\n",
       "<style scoped>\n",
       "    .dataframe tbody tr th:only-of-type {\n",
       "        vertical-align: middle;\n",
       "    }\n",
       "\n",
       "    .dataframe tbody tr th {\n",
       "        vertical-align: top;\n",
       "    }\n",
       "\n",
       "    .dataframe thead th {\n",
       "        text-align: right;\n",
       "    }\n",
       "</style>\n",
       "<table border=\"1\" class=\"dataframe\">\n",
       "  <thead>\n",
       "    <tr style=\"text-align: right;\">\n",
       "      <th></th>\n",
       "      <th>omset</th>\n",
       "      <th>operasional</th>\n",
       "    </tr>\n",
       "  </thead>\n",
       "  <tbody>\n",
       "    <tr>\n",
       "      <th>0</th>\n",
       "      <td>11</td>\n",
       "      <td>12</td>\n",
       "    </tr>\n",
       "    <tr>\n",
       "      <th>1</th>\n",
       "      <td>15</td>\n",
       "      <td>2</td>\n",
       "    </tr>\n",
       "    <tr>\n",
       "      <th>2</th>\n",
       "      <td>3</td>\n",
       "      <td>18</td>\n",
       "    </tr>\n",
       "    <tr>\n",
       "      <th>3</th>\n",
       "      <td>4</td>\n",
       "      <td>4</td>\n",
       "    </tr>\n",
       "    <tr>\n",
       "      <th>4</th>\n",
       "      <td>3</td>\n",
       "      <td>1</td>\n",
       "    </tr>\n",
       "  </tbody>\n",
       "</table>\n",
       "</div>"
      ],
      "text/plain": [
       "   omset  operasional\n",
       "0     11           12\n",
       "1     15            2\n",
       "2      3           18\n",
       "3      4            4\n",
       "4      3            1"
      ]
     },
     "execution_count": 9,
     "metadata": {},
     "output_type": "execute_result"
    }
   ],
   "source": [
    "#19. Formatting tampilan Data Frame\n",
    "\n",
    "n_rows = 5\n",
    "n_cols = 2\n",
    "cols = ['omset', 'operasional']\n",
    "\n",
    "df = pd.DataFrame(np.random.randint(1, 20, size=(n_rows, n_cols)), \n",
    "                  columns=cols)\n",
    "df"
   ]
  },
  {
   "cell_type": "code",
   "execution_count": 10,
   "metadata": {},
   "outputs": [
    {
     "data": {
      "text/html": [
       "<div>\n",
       "<style scoped>\n",
       "    .dataframe tbody tr th:only-of-type {\n",
       "        vertical-align: middle;\n",
       "    }\n",
       "\n",
       "    .dataframe tbody tr th {\n",
       "        vertical-align: top;\n",
       "    }\n",
       "\n",
       "    .dataframe thead th {\n",
       "        text-align: right;\n",
       "    }\n",
       "</style>\n",
       "<table border=\"1\" class=\"dataframe\">\n",
       "  <thead>\n",
       "    <tr style=\"text-align: right;\">\n",
       "      <th></th>\n",
       "      <th>omset</th>\n",
       "      <th>operasional</th>\n",
       "    </tr>\n",
       "  </thead>\n",
       "  <tbody>\n",
       "    <tr>\n",
       "      <th>0</th>\n",
       "      <td>1100000</td>\n",
       "      <td>120000</td>\n",
       "    </tr>\n",
       "    <tr>\n",
       "      <th>1</th>\n",
       "      <td>1500000</td>\n",
       "      <td>20000</td>\n",
       "    </tr>\n",
       "    <tr>\n",
       "      <th>2</th>\n",
       "      <td>300000</td>\n",
       "      <td>180000</td>\n",
       "    </tr>\n",
       "    <tr>\n",
       "      <th>3</th>\n",
       "      <td>400000</td>\n",
       "      <td>40000</td>\n",
       "    </tr>\n",
       "    <tr>\n",
       "      <th>4</th>\n",
       "      <td>300000</td>\n",
       "      <td>10000</td>\n",
       "    </tr>\n",
       "  </tbody>\n",
       "</table>\n",
       "</div>"
      ],
      "text/plain": [
       "     omset  operasional\n",
       "0  1100000       120000\n",
       "1  1500000        20000\n",
       "2   300000       180000\n",
       "3   400000        40000\n",
       "4   300000        10000"
      ]
     },
     "execution_count": 10,
     "metadata": {},
     "output_type": "execute_result"
    }
   ],
   "source": [
    "df['omset'] = df['omset'] * 100_000\n",
    "df['operasional'] = df['operasional'] * 10_000\n",
    "df"
   ]
  },
  {
   "cell_type": "code",
   "execution_count": 11,
   "metadata": {},
   "outputs": [
    {
     "data": {
      "text/html": [
       "<div>\n",
       "<style scoped>\n",
       "    .dataframe tbody tr th:only-of-type {\n",
       "        vertical-align: middle;\n",
       "    }\n",
       "\n",
       "    .dataframe tbody tr th {\n",
       "        vertical-align: top;\n",
       "    }\n",
       "\n",
       "    .dataframe thead th {\n",
       "        text-align: right;\n",
       "    }\n",
       "</style>\n",
       "<table border=\"1\" class=\"dataframe\">\n",
       "  <thead>\n",
       "    <tr style=\"text-align: right;\">\n",
       "      <th></th>\n",
       "      <th>tanggal</th>\n",
       "      <th>omset</th>\n",
       "      <th>operasional</th>\n",
       "    </tr>\n",
       "  </thead>\n",
       "  <tbody>\n",
       "    <tr>\n",
       "      <th>0</th>\n",
       "      <td>2000-01-01</td>\n",
       "      <td>1100000</td>\n",
       "      <td>120000</td>\n",
       "    </tr>\n",
       "    <tr>\n",
       "      <th>1</th>\n",
       "      <td>2000-01-02</td>\n",
       "      <td>1500000</td>\n",
       "      <td>20000</td>\n",
       "    </tr>\n",
       "    <tr>\n",
       "      <th>2</th>\n",
       "      <td>2000-01-03</td>\n",
       "      <td>300000</td>\n",
       "      <td>180000</td>\n",
       "    </tr>\n",
       "    <tr>\n",
       "      <th>3</th>\n",
       "      <td>2000-01-04</td>\n",
       "      <td>400000</td>\n",
       "      <td>40000</td>\n",
       "    </tr>\n",
       "    <tr>\n",
       "      <th>4</th>\n",
       "      <td>2000-01-05</td>\n",
       "      <td>300000</td>\n",
       "      <td>10000</td>\n",
       "    </tr>\n",
       "  </tbody>\n",
       "</table>\n",
       "</div>"
      ],
      "text/plain": [
       "     tanggal    omset  operasional\n",
       "0 2000-01-01  1100000       120000\n",
       "1 2000-01-02  1500000        20000\n",
       "2 2000-01-03   300000       180000\n",
       "3 2000-01-04   400000        40000\n",
       "4 2000-01-05   300000        10000"
      ]
     },
     "execution_count": 11,
     "metadata": {},
     "output_type": "execute_result"
    }
   ],
   "source": [
    "df.index = pd.util.testing.makeDateIndex(n_rows, freq='D')\n",
    "df = df.reset_index()\n",
    "df = df.rename(columns={'index':'tanggal'})\n",
    "df"
   ]
  },
  {
   "cell_type": "code",
   "execution_count": 12,
   "metadata": {},
   "outputs": [
    {
     "data": {
      "text/html": [
       "<style  type=\"text/css\" >\n",
       "</style><table id=\"T_e61d8956_519f_11ed_8ac4_6c02e058868a\" ><thead>    <tr>        <th class=\"blank level0\" ></th>        <th class=\"col_heading level0 col0\" >tanggal</th>        <th class=\"col_heading level0 col1\" >omset</th>        <th class=\"col_heading level0 col2\" >operasional</th>    </tr></thead><tbody>\n",
       "                <tr>\n",
       "                        <th id=\"T_e61d8956_519f_11ed_8ac4_6c02e058868alevel0_row0\" class=\"row_heading level0 row0\" >0</th>\n",
       "                        <td id=\"T_e61d8956_519f_11ed_8ac4_6c02e058868arow0_col0\" class=\"data row0 col0\" >01/01/00</td>\n",
       "                        <td id=\"T_e61d8956_519f_11ed_8ac4_6c02e058868arow0_col1\" class=\"data row0 col1\" >Rp 1100000.00</td>\n",
       "                        <td id=\"T_e61d8956_519f_11ed_8ac4_6c02e058868arow0_col2\" class=\"data row0 col2\" >Rp 120000.00</td>\n",
       "            </tr>\n",
       "            <tr>\n",
       "                        <th id=\"T_e61d8956_519f_11ed_8ac4_6c02e058868alevel0_row1\" class=\"row_heading level0 row1\" >1</th>\n",
       "                        <td id=\"T_e61d8956_519f_11ed_8ac4_6c02e058868arow1_col0\" class=\"data row1 col0\" >02/01/00</td>\n",
       "                        <td id=\"T_e61d8956_519f_11ed_8ac4_6c02e058868arow1_col1\" class=\"data row1 col1\" >Rp 1500000.00</td>\n",
       "                        <td id=\"T_e61d8956_519f_11ed_8ac4_6c02e058868arow1_col2\" class=\"data row1 col2\" >Rp 20000.00</td>\n",
       "            </tr>\n",
       "            <tr>\n",
       "                        <th id=\"T_e61d8956_519f_11ed_8ac4_6c02e058868alevel0_row2\" class=\"row_heading level0 row2\" >2</th>\n",
       "                        <td id=\"T_e61d8956_519f_11ed_8ac4_6c02e058868arow2_col0\" class=\"data row2 col0\" >03/01/00</td>\n",
       "                        <td id=\"T_e61d8956_519f_11ed_8ac4_6c02e058868arow2_col1\" class=\"data row2 col1\" >Rp 300000.00</td>\n",
       "                        <td id=\"T_e61d8956_519f_11ed_8ac4_6c02e058868arow2_col2\" class=\"data row2 col2\" >Rp 180000.00</td>\n",
       "            </tr>\n",
       "            <tr>\n",
       "                        <th id=\"T_e61d8956_519f_11ed_8ac4_6c02e058868alevel0_row3\" class=\"row_heading level0 row3\" >3</th>\n",
       "                        <td id=\"T_e61d8956_519f_11ed_8ac4_6c02e058868arow3_col0\" class=\"data row3 col0\" >04/01/00</td>\n",
       "                        <td id=\"T_e61d8956_519f_11ed_8ac4_6c02e058868arow3_col1\" class=\"data row3 col1\" >Rp 400000.00</td>\n",
       "                        <td id=\"T_e61d8956_519f_11ed_8ac4_6c02e058868arow3_col2\" class=\"data row3 col2\" >Rp 40000.00</td>\n",
       "            </tr>\n",
       "            <tr>\n",
       "                        <th id=\"T_e61d8956_519f_11ed_8ac4_6c02e058868alevel0_row4\" class=\"row_heading level0 row4\" >4</th>\n",
       "                        <td id=\"T_e61d8956_519f_11ed_8ac4_6c02e058868arow4_col0\" class=\"data row4 col0\" >05/01/00</td>\n",
       "                        <td id=\"T_e61d8956_519f_11ed_8ac4_6c02e058868arow4_col1\" class=\"data row4 col1\" >Rp 300000.00</td>\n",
       "                        <td id=\"T_e61d8956_519f_11ed_8ac4_6c02e058868arow4_col2\" class=\"data row4 col2\" >Rp 10000.00</td>\n",
       "            </tr>\n",
       "    </tbody></table>"
      ],
      "text/plain": [
       "<pandas.io.formats.style.Styler at 0x22cb919a490>"
      ]
     },
     "execution_count": 12,
     "metadata": {},
     "output_type": "execute_result"
    }
   ],
   "source": [
    "# Melakukan formatting tampilan Data Frame\n",
    "\n",
    "formatku = {'tanggal':'{:%d/%m/%y}', \n",
    "            'operasional':'Rp {:.2f}',\n",
    "            'omset':'Rp {:.2f}'}\n",
    "\n",
    "laporan = df.style.format(formatku)\n",
    "laporan"
   ]
  },
  {
   "cell_type": "code",
   "execution_count": 13,
   "metadata": {},
   "outputs": [
    {
     "data": {
      "text/plain": [
       "pandas.io.formats.style.Styler"
      ]
     },
     "execution_count": 13,
     "metadata": {},
     "output_type": "execute_result"
    }
   ],
   "source": [
    "type(laporan)"
   ]
  },
  {
   "cell_type": "code",
   "execution_count": 14,
   "metadata": {},
   "outputs": [
    {
     "data": {
      "text/html": [
       "<style  type=\"text/css\" >\n",
       "</style><table id=\"T_efadf5fe_519f_11ed_a2bf_6c02e058868a\" ><thead>    <tr>        <th class=\"col_heading level0 col0\" >tanggal</th>        <th class=\"col_heading level0 col1\" >omset</th>        <th class=\"col_heading level0 col2\" >operasional</th>    </tr></thead><tbody>\n",
       "                <tr>\n",
       "                                <td id=\"T_efadf5fe_519f_11ed_a2bf_6c02e058868arow0_col0\" class=\"data row0 col0\" >01/01/00</td>\n",
       "                        <td id=\"T_efadf5fe_519f_11ed_a2bf_6c02e058868arow0_col1\" class=\"data row0 col1\" >Rp 1100000.00</td>\n",
       "                        <td id=\"T_efadf5fe_519f_11ed_a2bf_6c02e058868arow0_col2\" class=\"data row0 col2\" >Rp 120000.00</td>\n",
       "            </tr>\n",
       "            <tr>\n",
       "                                <td id=\"T_efadf5fe_519f_11ed_a2bf_6c02e058868arow1_col0\" class=\"data row1 col0\" >02/01/00</td>\n",
       "                        <td id=\"T_efadf5fe_519f_11ed_a2bf_6c02e058868arow1_col1\" class=\"data row1 col1\" >Rp 1500000.00</td>\n",
       "                        <td id=\"T_efadf5fe_519f_11ed_a2bf_6c02e058868arow1_col2\" class=\"data row1 col2\" >Rp 20000.00</td>\n",
       "            </tr>\n",
       "            <tr>\n",
       "                                <td id=\"T_efadf5fe_519f_11ed_a2bf_6c02e058868arow2_col0\" class=\"data row2 col0\" >03/01/00</td>\n",
       "                        <td id=\"T_efadf5fe_519f_11ed_a2bf_6c02e058868arow2_col1\" class=\"data row2 col1\" >Rp 300000.00</td>\n",
       "                        <td id=\"T_efadf5fe_519f_11ed_a2bf_6c02e058868arow2_col2\" class=\"data row2 col2\" >Rp 180000.00</td>\n",
       "            </tr>\n",
       "            <tr>\n",
       "                                <td id=\"T_efadf5fe_519f_11ed_a2bf_6c02e058868arow3_col0\" class=\"data row3 col0\" >04/01/00</td>\n",
       "                        <td id=\"T_efadf5fe_519f_11ed_a2bf_6c02e058868arow3_col1\" class=\"data row3 col1\" >Rp 400000.00</td>\n",
       "                        <td id=\"T_efadf5fe_519f_11ed_a2bf_6c02e058868arow3_col2\" class=\"data row3 col2\" >Rp 40000.00</td>\n",
       "            </tr>\n",
       "            <tr>\n",
       "                                <td id=\"T_efadf5fe_519f_11ed_a2bf_6c02e058868arow4_col0\" class=\"data row4 col0\" >05/01/00</td>\n",
       "                        <td id=\"T_efadf5fe_519f_11ed_a2bf_6c02e058868arow4_col1\" class=\"data row4 col1\" >Rp 300000.00</td>\n",
       "                        <td id=\"T_efadf5fe_519f_11ed_a2bf_6c02e058868arow4_col2\" class=\"data row4 col2\" >Rp 10000.00</td>\n",
       "            </tr>\n",
       "    </tbody></table>"
      ],
      "text/plain": [
       "<pandas.io.formats.style.Styler at 0x22cb919a490>"
      ]
     },
     "execution_count": 14,
     "metadata": {},
     "output_type": "execute_result"
    }
   ],
   "source": [
    "laporan.hide_index()"
   ]
  },
  {
   "cell_type": "code",
   "execution_count": 15,
   "metadata": {},
   "outputs": [
    {
     "data": {
      "text/html": [
       "<style  type=\"text/css\" >\n",
       "</style><table id=\"T_64595efb_51a0_11ed_8f92_6c02e058868a\" ><caption>Data Omset dan Operasional</caption><thead>    <tr>        <th class=\"col_heading level0 col0\" >tanggal</th>        <th class=\"col_heading level0 col1\" >omset</th>        <th class=\"col_heading level0 col2\" >operasional</th>    </tr></thead><tbody>\n",
       "                <tr>\n",
       "                                <td id=\"T_64595efb_51a0_11ed_8f92_6c02e058868arow0_col0\" class=\"data row0 col0\" >01/01/00</td>\n",
       "                        <td id=\"T_64595efb_51a0_11ed_8f92_6c02e058868arow0_col1\" class=\"data row0 col1\" >Rp 1100000.00</td>\n",
       "                        <td id=\"T_64595efb_51a0_11ed_8f92_6c02e058868arow0_col2\" class=\"data row0 col2\" >Rp 120000.00</td>\n",
       "            </tr>\n",
       "            <tr>\n",
       "                                <td id=\"T_64595efb_51a0_11ed_8f92_6c02e058868arow1_col0\" class=\"data row1 col0\" >02/01/00</td>\n",
       "                        <td id=\"T_64595efb_51a0_11ed_8f92_6c02e058868arow1_col1\" class=\"data row1 col1\" >Rp 1500000.00</td>\n",
       "                        <td id=\"T_64595efb_51a0_11ed_8f92_6c02e058868arow1_col2\" class=\"data row1 col2\" >Rp 20000.00</td>\n",
       "            </tr>\n",
       "            <tr>\n",
       "                                <td id=\"T_64595efb_51a0_11ed_8f92_6c02e058868arow2_col0\" class=\"data row2 col0\" >03/01/00</td>\n",
       "                        <td id=\"T_64595efb_51a0_11ed_8f92_6c02e058868arow2_col1\" class=\"data row2 col1\" >Rp 300000.00</td>\n",
       "                        <td id=\"T_64595efb_51a0_11ed_8f92_6c02e058868arow2_col2\" class=\"data row2 col2\" >Rp 180000.00</td>\n",
       "            </tr>\n",
       "            <tr>\n",
       "                                <td id=\"T_64595efb_51a0_11ed_8f92_6c02e058868arow3_col0\" class=\"data row3 col0\" >04/01/00</td>\n",
       "                        <td id=\"T_64595efb_51a0_11ed_8f92_6c02e058868arow3_col1\" class=\"data row3 col1\" >Rp 400000.00</td>\n",
       "                        <td id=\"T_64595efb_51a0_11ed_8f92_6c02e058868arow3_col2\" class=\"data row3 col2\" >Rp 40000.00</td>\n",
       "            </tr>\n",
       "            <tr>\n",
       "                                <td id=\"T_64595efb_51a0_11ed_8f92_6c02e058868arow4_col0\" class=\"data row4 col0\" >05/01/00</td>\n",
       "                        <td id=\"T_64595efb_51a0_11ed_8f92_6c02e058868arow4_col1\" class=\"data row4 col1\" >Rp 300000.00</td>\n",
       "                        <td id=\"T_64595efb_51a0_11ed_8f92_6c02e058868arow4_col2\" class=\"data row4 col2\" >Rp 10000.00</td>\n",
       "            </tr>\n",
       "    </tbody></table>"
      ],
      "text/plain": [
       "<pandas.io.formats.style.Styler at 0x22cb919a490>"
      ]
     },
     "execution_count": 15,
     "metadata": {},
     "output_type": "execute_result"
    }
   ],
   "source": [
    "laporan.set_caption('Data Omset dan Operasional')"
   ]
  },
  {
   "cell_type": "code",
   "execution_count": 16,
   "metadata": {},
   "outputs": [
    {
     "data": {
      "text/html": [
       "<style  type=\"text/css\" >\n",
       "#T_69718da0_51a0_11ed_a22a_6c02e058868arow1_col1{\n",
       "            background-color:  lightgreen;\n",
       "        }#T_69718da0_51a0_11ed_a22a_6c02e058868arow2_col1,#T_69718da0_51a0_11ed_a22a_6c02e058868arow4_col1{\n",
       "            background-color:  pink;\n",
       "        }#T_69718da0_51a0_11ed_a22a_6c02e058868arow2_col2{\n",
       "            background-color:  grey;\n",
       "        }#T_69718da0_51a0_11ed_a22a_6c02e058868arow4_col2{\n",
       "            background-color:  lightblue;\n",
       "        }</style><table id=\"T_69718da0_51a0_11ed_a22a_6c02e058868a\" ><caption>Data Omset dan Operasional</caption><thead>    <tr>        <th class=\"col_heading level0 col0\" >tanggal</th>        <th class=\"col_heading level0 col1\" >omset</th>        <th class=\"col_heading level0 col2\" >operasional</th>    </tr></thead><tbody>\n",
       "                <tr>\n",
       "                                <td id=\"T_69718da0_51a0_11ed_a22a_6c02e058868arow0_col0\" class=\"data row0 col0\" >01/01/00</td>\n",
       "                        <td id=\"T_69718da0_51a0_11ed_a22a_6c02e058868arow0_col1\" class=\"data row0 col1\" >Rp 1100000.00</td>\n",
       "                        <td id=\"T_69718da0_51a0_11ed_a22a_6c02e058868arow0_col2\" class=\"data row0 col2\" >Rp 120000.00</td>\n",
       "            </tr>\n",
       "            <tr>\n",
       "                                <td id=\"T_69718da0_51a0_11ed_a22a_6c02e058868arow1_col0\" class=\"data row1 col0\" >02/01/00</td>\n",
       "                        <td id=\"T_69718da0_51a0_11ed_a22a_6c02e058868arow1_col1\" class=\"data row1 col1\" >Rp 1500000.00</td>\n",
       "                        <td id=\"T_69718da0_51a0_11ed_a22a_6c02e058868arow1_col2\" class=\"data row1 col2\" >Rp 20000.00</td>\n",
       "            </tr>\n",
       "            <tr>\n",
       "                                <td id=\"T_69718da0_51a0_11ed_a22a_6c02e058868arow2_col0\" class=\"data row2 col0\" >03/01/00</td>\n",
       "                        <td id=\"T_69718da0_51a0_11ed_a22a_6c02e058868arow2_col1\" class=\"data row2 col1\" >Rp 300000.00</td>\n",
       "                        <td id=\"T_69718da0_51a0_11ed_a22a_6c02e058868arow2_col2\" class=\"data row2 col2\" >Rp 180000.00</td>\n",
       "            </tr>\n",
       "            <tr>\n",
       "                                <td id=\"T_69718da0_51a0_11ed_a22a_6c02e058868arow3_col0\" class=\"data row3 col0\" >04/01/00</td>\n",
       "                        <td id=\"T_69718da0_51a0_11ed_a22a_6c02e058868arow3_col1\" class=\"data row3 col1\" >Rp 400000.00</td>\n",
       "                        <td id=\"T_69718da0_51a0_11ed_a22a_6c02e058868arow3_col2\" class=\"data row3 col2\" >Rp 40000.00</td>\n",
       "            </tr>\n",
       "            <tr>\n",
       "                                <td id=\"T_69718da0_51a0_11ed_a22a_6c02e058868arow4_col0\" class=\"data row4 col0\" >05/01/00</td>\n",
       "                        <td id=\"T_69718da0_51a0_11ed_a22a_6c02e058868arow4_col1\" class=\"data row4 col1\" >Rp 300000.00</td>\n",
       "                        <td id=\"T_69718da0_51a0_11ed_a22a_6c02e058868arow4_col2\" class=\"data row4 col2\" >Rp 10000.00</td>\n",
       "            </tr>\n",
       "    </tbody></table>"
      ],
      "text/plain": [
       "<pandas.io.formats.style.Styler at 0x22cb919a490>"
      ]
     },
     "execution_count": 16,
     "metadata": {},
     "output_type": "execute_result"
    }
   ],
   "source": [
    "laporan.highlight_min('omset', color='pink')\n",
    "laporan.highlight_max('omset', color='lightgreen')\n",
    "\n",
    "laporan.highlight_min('operasional', color='lightblue')\n",
    "laporan.highlight_max('operasional', color='grey')"
   ]
  },
  {
   "cell_type": "code",
   "execution_count": null,
   "metadata": {},
   "outputs": [],
   "source": []
  },
  {
   "cell_type": "code",
   "execution_count": null,
   "metadata": {},
   "outputs": [],
   "source": [
    "#20. Menggabungkan (merge) dua Data Frame secara berdampingan"
   ]
  },
  {
   "cell_type": "code",
   "execution_count": 17,
   "metadata": {},
   "outputs": [
    {
     "data": {
      "text/html": [
       "<div>\n",
       "<style scoped>\n",
       "    .dataframe tbody tr th:only-of-type {\n",
       "        vertical-align: middle;\n",
       "    }\n",
       "\n",
       "    .dataframe tbody tr th {\n",
       "        vertical-align: top;\n",
       "    }\n",
       "\n",
       "    .dataframe thead th {\n",
       "        text-align: right;\n",
       "    }\n",
       "</style>\n",
       "<table border=\"1\" class=\"dataframe\">\n",
       "  <thead>\n",
       "    <tr style=\"text-align: right;\">\n",
       "      <th></th>\n",
       "      <th>col1</th>\n",
       "      <th>col2</th>\n",
       "    </tr>\n",
       "  </thead>\n",
       "  <tbody>\n",
       "    <tr>\n",
       "      <th>0</th>\n",
       "      <td>1</td>\n",
       "      <td>10</td>\n",
       "    </tr>\n",
       "    <tr>\n",
       "      <th>1</th>\n",
       "      <td>2</td>\n",
       "      <td>20</td>\n",
       "    </tr>\n",
       "    <tr>\n",
       "      <th>2</th>\n",
       "      <td>3</td>\n",
       "      <td>30</td>\n",
       "    </tr>\n",
       "  </tbody>\n",
       "</table>\n",
       "</div>"
      ],
      "text/plain": [
       "   col1  col2\n",
       "0     1    10\n",
       "1     2    20\n",
       "2     3    30"
      ]
     },
     "execution_count": 17,
     "metadata": {},
     "output_type": "execute_result"
    }
   ],
   "source": [
    "# Persiapan Data Frame\n",
    "\n",
    "d1 = {'col1':[1, 2, 3], \n",
    "'col2':[10, 20, 30]}\n",
    "df1 = pd.DataFrame(d1)\n",
    "df1"
   ]
  },
  {
   "cell_type": "code",
   "execution_count": 18,
   "metadata": {},
   "outputs": [
    {
     "data": {
      "text/html": [
       "<div>\n",
       "<style scoped>\n",
       "    .dataframe tbody tr th:only-of-type {\n",
       "        vertical-align: middle;\n",
       "    }\n",
       "\n",
       "    .dataframe tbody tr th {\n",
       "        vertical-align: top;\n",
       "    }\n",
       "\n",
       "    .dataframe thead th {\n",
       "        text-align: right;\n",
       "    }\n",
       "</style>\n",
       "<table border=\"1\" class=\"dataframe\">\n",
       "  <thead>\n",
       "    <tr style=\"text-align: right;\">\n",
       "      <th></th>\n",
       "      <th>col3</th>\n",
       "      <th>col4</th>\n",
       "    </tr>\n",
       "  </thead>\n",
       "  <tbody>\n",
       "    <tr>\n",
       "      <th>0</th>\n",
       "      <td>4</td>\n",
       "      <td>40</td>\n",
       "    </tr>\n",
       "    <tr>\n",
       "      <th>1</th>\n",
       "      <td>5</td>\n",
       "      <td>50</td>\n",
       "    </tr>\n",
       "    <tr>\n",
       "      <th>2</th>\n",
       "      <td>6</td>\n",
       "      <td>60</td>\n",
       "    </tr>\n",
       "  </tbody>\n",
       "</table>\n",
       "</div>"
      ],
      "text/plain": [
       "   col3  col4\n",
       "0     4    40\n",
       "1     5    50\n",
       "2     6    60"
      ]
     },
     "execution_count": 18,
     "metadata": {},
     "output_type": "execute_result"
    }
   ],
   "source": [
    "d2 = {'col3':[4, 5, 6], \n",
    "      'col4':[40, 50, 60]}\n",
    "df2 = pd.DataFrame(d2)\n",
    "df2"
   ]
  },
  {
   "cell_type": "code",
   "execution_count": 19,
   "metadata": {},
   "outputs": [
    {
     "data": {
      "text/html": [
       "<div>\n",
       "<style scoped>\n",
       "    .dataframe tbody tr th:only-of-type {\n",
       "        vertical-align: middle;\n",
       "    }\n",
       "\n",
       "    .dataframe tbody tr th {\n",
       "        vertical-align: top;\n",
       "    }\n",
       "\n",
       "    .dataframe thead th {\n",
       "        text-align: right;\n",
       "    }\n",
       "</style>\n",
       "<table border=\"1\" class=\"dataframe\">\n",
       "  <thead>\n",
       "    <tr style=\"text-align: right;\">\n",
       "      <th></th>\n",
       "      <th>col1</th>\n",
       "      <th>col2</th>\n",
       "      <th>col3</th>\n",
       "      <th>col4</th>\n",
       "    </tr>\n",
       "  </thead>\n",
       "  <tbody>\n",
       "    <tr>\n",
       "      <th>0</th>\n",
       "      <td>1</td>\n",
       "      <td>10</td>\n",
       "      <td>4</td>\n",
       "      <td>40</td>\n",
       "    </tr>\n",
       "    <tr>\n",
       "      <th>1</th>\n",
       "      <td>2</td>\n",
       "      <td>20</td>\n",
       "      <td>5</td>\n",
       "      <td>50</td>\n",
       "    </tr>\n",
       "    <tr>\n",
       "      <th>2</th>\n",
       "      <td>3</td>\n",
       "      <td>30</td>\n",
       "      <td>6</td>\n",
       "      <td>60</td>\n",
       "    </tr>\n",
       "  </tbody>\n",
       "</table>\n",
       "</div>"
      ],
      "text/plain": [
       "   col1  col2  col3  col4\n",
       "0     1    10     4    40\n",
       "1     2    20     5    50\n",
       "2     3    30     6    60"
      ]
     },
     "execution_count": 19,
     "metadata": {},
     "output_type": "execute_result"
    }
   ],
   "source": [
    "# Menggabungkan (merge) dua Data Frame secara berdampingan\n",
    "\n",
    "df = pd.merge(df1, df2, left_index=True, right_index=True)\n",
    "df"
   ]
  },
  {
   "cell_type": "code",
   "execution_count": null,
   "metadata": {},
   "outputs": [],
   "source": []
  }
 ],
 "metadata": {
  "kernelspec": {
   "display_name": "Python 3",
   "language": "python",
   "name": "python3"
  },
  "language_info": {
   "codemirror_mode": {
    "name": "ipython",
    "version": 3
   },
   "file_extension": ".py",
   "mimetype": "text/x-python",
   "name": "python",
   "nbconvert_exporter": "python",
   "pygments_lexer": "ipython3",
   "version": "3.8.5"
  }
 },
 "nbformat": 4,
 "nbformat_minor": 4
}
